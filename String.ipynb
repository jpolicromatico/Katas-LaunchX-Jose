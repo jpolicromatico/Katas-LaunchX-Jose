{
 "cells": [
  {
   "cell_type": "code",
   "execution_count": 24,
   "metadata": {},
   "outputs": [
    {
     "name": "stdout",
     "output_type": "stream",
     "text": [
      "On average, the Moon moves 4cm away from the Earth every year\n",
      "The highest daylight temperature of the Moon is 127 Celsius.\n"
     ]
    }
   ],
   "source": [
    "text = \"\"\"Interesting facts about the Moon. The Moon is Earth's only satellite. There are several interesting facts about the Moon and how it affects life here on Earth. On average, the Moon moves 4cm away from the Earth every year. This yearly drift is not significant enough to cause immediate effects on Earth. The highest daylight temperature of the Moon is 127 C.\"\"\"\n",
    "#Primero, divide el texto en cada oración para trabajar con su contenido:\n",
    "# Añade el código necesario\n",
    "partes_texto = text.split('. ')\n",
    "\n",
    "\n",
    "#Ahora, define algunas palabras clave para búsqueda que te ayudarán a determinar si una oración contiene un hecho.\n",
    "# Define las palabras pista: average, temperature y distance suenan bien\n",
    "pistas = [\"average\", \"temperature\", \"distance\"]\n",
    "\n",
    "#Crea un bucle para imprimir solo datos sobre la Luna que estén relacionados con las palabras clave definidas anteriormente:\n",
    "# Ciclo for para recorrer la cadena\n",
    "\n",
    "for oracion in partes_texto: #recorre el texto dividido\n",
    "    for pista in pistas: #recorre el arreglo de las pistas\n",
    "         #Se recorre la primer cadena que se recortó y busca la palabra en el primer cachito y consecutivamente\n",
    "        if pista in oracion:  \n",
    "            # Ciclo para cambiar C a Celsius   \n",
    "            print(oracion.replace(' C', ' Celsius'))\n",
    "            break\n"
   ]
  },
  {
   "cell_type": "code",
   "execution_count": 39,
   "metadata": {},
   "outputs": [
    {
     "name": "stdout",
     "output_type": "stream",
     "text": [
      "Datos de gravedad sobre Europa \n",
      "-----------------------------------------------------------------\n",
      "Nombre del planeta: Jupiter\n",
      "Gravedad en Europa: 1.6199999999999999 m/s2\n"
     ]
    }
   ],
   "source": [
    "# Datos con los que vas a trabajar\n",
    "name = \"Europa\"\n",
    "gravity = 0.00162 # in kms\n",
    "planet = \"Jupiter\"\n",
    "\n",
    "# Creamos el título\n",
    "#title = name.title()\n",
    "title = f'Datos de gravedad sobre {name}'\n",
    "\n",
    "# Creamos la plantilla\n",
    "facts =f\"\"\" {'-'*50}\n",
    "Nombre del planeta: {planet}\n",
    "Gravedad en {name}: {gravity * 1000} m/s2\"\"\"\n",
    "#dash='-------------------------------------------------------------------------------'\n",
    "#plantilla = ( title + dash + str(gravity) )\n",
    "# Unión de ambas cadenas\n",
    "\n",
    "    #plantilla = f\"\"\"{title.title()}\n",
    "    #{facts}\"\"\"\n",
    "\n",
    "#print(plantilla)\n",
    "\n",
    "#nueva plantilla\n",
    "nueva_plantilla =\"\"\"Datos de gravedad sobre {name} \n",
    "-----------------------------------------------------------------\n",
    "Nombre del planeta: {planet}\n",
    "Gravedad en {name}: {gravity} m/s2\"\"\"\n",
    "\n",
    "print(nueva_plantilla.format(name=name, planet=planet, gravity=gravity*1000))"
   ]
  }
 ],
 "metadata": {
  "interpreter": {
   "hash": "14aca6465cc814b6e1a43d8b847508903497da052e7dd6a5c26c8b8f951c2e7b"
  },
  "kernelspec": {
   "display_name": "Python 3.10.2 64-bit",
   "language": "python",
   "name": "python3"
  },
  "language_info": {
   "codemirror_mode": {
    "name": "ipython",
    "version": 3
   },
   "file_extension": ".py",
   "mimetype": "text/x-python",
   "name": "python",
   "nbconvert_exporter": "python",
   "pygments_lexer": "ipython3",
   "version": "3.10.2"
  },
  "orig_nbformat": 4
 },
 "nbformat": 4,
 "nbformat_minor": 2
}
