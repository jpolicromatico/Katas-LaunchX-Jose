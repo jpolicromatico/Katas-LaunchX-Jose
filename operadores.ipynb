{
 "cells": [
  {
   "cell_type": "code",
   "execution_count": 6,
   "metadata": {},
   "outputs": [
    {
     "name": "stdout",
     "output_type": "stream",
     "text": [
      "628949330\n",
      "390577534\n"
     ]
    }
   ],
   "source": [
    "from math import ceil, floor\n",
    "\n",
    "tierra = 149597870 \n",
    "jupiter = 778547200 \n",
    "\n",
    "distancia= abs(tierra-jupiter)\n",
    "\n",
    "print(distancia)\n",
    "print(ceil(distancia* 0.621))\n"
   ]
  },
  {
   "cell_type": "code",
   "execution_count": 14,
   "metadata": {},
   "outputs": [
    {
     "name": "stdout",
     "output_type": "stream",
     "text": [
      "91700000\n",
      "56945700.0\n"
     ]
    }
   ],
   "source": [
    "# Almacenar las entradas del usuario\n",
    "\n",
    "#Planeta\tDistancia al sol\n",
    "#Mercurio\t57900000\n",
    "#Venus\t    108200000\n",
    "#Tierra \t149600000\n",
    "#Marte  \t227900000\n",
    "#Júpiter\t778600000\n",
    "#Saturno\t1433500000\n",
    "#Urano  \t2872500000\n",
    "#Neptuno\t4495100000\n",
    "\n",
    "primer_planeta = input(\"¿Cuál es la distancia del primer planeta al sol?\")\n",
    "segundo_planeta = input(\"¿Cuál es la distancia del segunda planeta al sol?\")\n",
    "\n",
    "primer_planeta= abs(int(primer_planeta))\n",
    "segundo_planeta=abs(int(segundo_planeta))\n",
    "\n",
    "diferencia= segundo_planeta-primer_planeta\n",
    "\n",
    "print(diferencia)\n",
    "print(abs(diferencia*0.621))\n"
   ]
  }
 ],
 "metadata": {
  "interpreter": {
   "hash": "14aca6465cc814b6e1a43d8b847508903497da052e7dd6a5c26c8b8f951c2e7b"
  },
  "kernelspec": {
   "display_name": "Python 3.10.2 64-bit",
   "language": "python",
   "name": "python3"
  },
  "language_info": {
   "codemirror_mode": {
    "name": "ipython",
    "version": 3
   },
   "file_extension": ".py",
   "mimetype": "text/x-python",
   "name": "python",
   "nbconvert_exporter": "python",
   "pygments_lexer": "ipython3",
   "version": "3.10.2"
  },
  "orig_nbformat": 4
 },
 "nbformat": 4,
 "nbformat_minor": 2
}
