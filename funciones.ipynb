{
 "cells": [
  {
   "cell_type": "code",
   "execution_count": 12,
   "metadata": {},
   "outputs": [
    {
     "name": "stdout",
     "output_type": "stream",
     "text": [
      " Reporte\n",
      "   Tanque 1 = 45 \n",
      "   Tanque 2 = 10\n",
      "   Tanque 3 = 70 \n",
      "   Promedio = 41.666666666666664\n",
      "   \n"
     ]
    }
   ],
   "source": [
    "#def combustible (tanque_1,tanque_2,tanque_3):\n",
    " #  promedio_tanques = (tanque_1+tanque_2+tanque_3)/3 \n",
    "  # return f\"\"\" Reporte\n",
    "  # Tanque 1 = {tanque_1} \n",
    "   #Tanque 2 = {tanque_2}\n",
    "   #Tanque 3 = {tanque_3} \n",
    "   #Promedio = {promedio_tanques}\n",
    "   #\"\"\"\n",
    "\n",
    "#funcion promedio\n",
    "\n",
    "def promedio(valores):\n",
    "    total= sum(valores)\n",
    "    cantidad = len(valores)\n",
    "    return total/cantidad\n",
    "\n",
    "#print(combustible (45,50,70))\n",
    "\n",
    "#def reporte (tanque_1,tanque_2,tanque_3): \n",
    "   return f\"\"\" Reporte\n",
    "   Tanque 1 = {tanque_1} \n",
    "   Tanque 2 = {tanque_2}\n",
    "   Tanque 3 = {tanque_3} \n",
    "   Promedio = {promedio([tanque_1,tanque_2,tanque_3])}\n",
    "   \"\"\"\n",
    "\n",
    "print(reporte (45,10,70))"
   ]
  },
  {
   "cell_type": "code",
   "execution_count": 5,
   "metadata": {},
   "outputs": [
    {
     "name": "stdout",
     "output_type": "stream",
     "text": [
      " Reporte\n",
      "   Destino = Luna \n",
      "   Tiempo total de vuelo= 35 Horas\n",
      "   Tanque interno = 45 litros\n",
      "   Tanque externo = 10 litros\n",
      "   Combustible total = 55 litros\n",
      "   \n"
     ]
    }
   ],
   "source": [
    "# Función con un informe preciso de la misión. Considera hora de prelanzamiento, tiempo de vuelo, destino, tanque externo y tanque interno\n",
    "\n",
    "\n",
    "#def reporte (destino,prelanzamiento,tiempo_vuelo,tanque_interno,tanque_externo): \n",
    "#   return f\"\"\" Reporte\n",
    "#  Destino = {destino} \n",
    "# Tiempo total de vuelo= {prelanzamiento+tiempo_vuelo} Horas\n",
    "#Tanque interno = {tanque_interno} litros\n",
    "#   Tanque externo = {tanque_externo} litros\n",
    "#   Combustible total = {tanque_interno+tanque_externo} litros\n",
    "#   \"\"\"\n",
    "\n",
    "#print(reporte ('Luna',10,25,45,10))\n",
    "\n"
   ]
  },
  {
   "cell_type": "code",
   "execution_count": 17,
   "metadata": {},
   "outputs": [
    {
     "name": "stdout",
     "output_type": "stream",
     "text": [
      " Reporte\n",
      "   Destino = Luna \n",
      "   Tiempo total de vuelo= 80 Horas\n",
      "   Combustible total = 5500 Litros\n",
      "   Tanque interno tiene 2500 restantes\n",
      "Tanque externo tiene 3000 restantes\n",
      "\n"
     ]
    }
   ],
   "source": [
    "def reporte_principal (destino,*tiempo,**combustible): \n",
    "   reporte = f\"\"\" Reporte\n",
    "   Destino = {destino} \n",
    "   Tiempo total de vuelo= {sum(tiempo)} Horas\n",
    "   Combustible total = {sum(combustible.values())} Litros\n",
    "   \"\"\"\n",
    "   for tanque, litros in combustible.items():\n",
    "      reporte += f\"Tanque {tanque} tiene {litros} restantes\\n\"\n",
    "   return reporte\n",
    "   \n",
    "print(reporte_principal ('Luna',10,25,45, interno=2500, externo=3000))\n"
   ]
  }
 ],
 "metadata": {
  "interpreter": {
   "hash": "14aca6465cc814b6e1a43d8b847508903497da052e7dd6a5c26c8b8f951c2e7b"
  },
  "kernelspec": {
   "display_name": "Python 3.10.2 64-bit",
   "language": "python",
   "name": "python3"
  },
  "language_info": {
   "codemirror_mode": {
    "name": "ipython",
    "version": 3
   },
   "file_extension": ".py",
   "mimetype": "text/x-python",
   "name": "python",
   "nbconvert_exporter": "python",
   "pygments_lexer": "ipython3",
   "version": "3.10.2"
  },
  "orig_nbformat": 4
 },
 "nbformat": 4,
 "nbformat_minor": 2
}
