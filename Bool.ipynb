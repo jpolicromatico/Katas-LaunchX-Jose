{
 "cells": [
  {
   "cell_type": "markdown",
   "metadata": {},
   "source": [
    "# Booleanos"
   ]
  },
  {
   "cell_type": "code",
   "execution_count": 4,
   "metadata": {},
   "outputs": [],
   "source": [
    "# Tip de práctica 1: Intenta ejecutarlo en un notebook.\n",
    "a = 97\n",
    "b = 55\n",
    "# test expression / expresión de prueba\n",
    "if a < b:\n",
    "    # statement to be run / instrucción a ejecutar\n",
    "    print(b)"
   ]
  },
  {
   "cell_type": "code",
   "execution_count": 3,
   "metadata": {},
   "outputs": [
    {
     "name": "stdout",
     "output_type": "stream",
     "text": [
      "44\n"
     ]
    }
   ],
   "source": [
    "#Booleanos fuera de sangría\n",
    "#En los booleanos solo se ejecutará aquello que resulte \"true\"\n",
    "a = 24\n",
    "b = 44\n",
    "if a <= 0:\n",
    "    print(a)\n",
    "print(b)"
   ]
  },
  {
   "cell_type": "code",
   "execution_count": 5,
   "metadata": {},
   "outputs": [
    {
     "name": "stdout",
     "output_type": "stream",
     "text": [
      "93\n"
     ]
    }
   ],
   "source": [
    "#Else\n",
    "a = 93\n",
    "b = 27\n",
    "if a >= b:\n",
    "    print(a)\n",
    "else:\n",
    "    print(b)"
   ]
  },
  {
   "cell_type": "code",
   "execution_count": 6,
   "metadata": {},
   "outputs": [
    {
     "name": "stdout",
     "output_type": "stream",
     "text": [
      "a es mayor o igual que b\n"
     ]
    }
   ],
   "source": [
    "#Else-if\n",
    "a = 93\n",
    "b = 27\n",
    "if a >= b:\n",
    "    print(\"a es mayor o igual que b\")\n",
    "elif a == b:\n",
    "    print(\"a es igual que b\")"
   ]
  },
  {
   "cell_type": "code",
   "execution_count": 7,
   "metadata": {},
   "outputs": [
    {
     "name": "stdout",
     "output_type": "stream",
     "text": [
      "a es mayor que b\n"
     ]
    }
   ],
   "source": [
    "#condicion, else, else-if\n",
    "a = 93\n",
    "b = 27\n",
    "if a > b:\n",
    "    print(\"a es mayor que b\")\n",
    "elif a < b:\n",
    "    print(\"a es menor que b\")\n",
    "else: \n",
    "    print (\"a es igual que b\")"
   ]
  },
  {
   "cell_type": "code",
   "execution_count": 8,
   "metadata": {},
   "outputs": [
    {
     "name": "stdout",
     "output_type": "stream",
     "text": [
      "a es menor que b\n"
     ]
    }
   ],
   "source": [
    "#identar condiciones\n",
    "a = 16\n",
    "b = 25\n",
    "c = 27\n",
    "if a > b:\n",
    "    if b > c:\n",
    "        print (\"a es mayor que b y b es mayor que c\")\n",
    "    else: \n",
    "        print (\"a es mayor que b y menor que c\")\n",
    "elif a == b:\n",
    "    print (\"a es igual que b\")\n",
    "else:\n",
    "    print (\"a es menor que b\")"
   ]
  },
  {
   "cell_type": "code",
   "execution_count": 9,
   "metadata": {},
   "outputs": [
    {
     "name": "stdout",
     "output_type": "stream",
     "text": [
      "57\n"
     ]
    }
   ],
   "source": [
    "#or\n",
    "a = 23\n",
    "b = 34\n",
    "if a == 34 or b == 34:\n",
    "    print(a + b)"
   ]
  },
  {
   "cell_type": "code",
   "execution_count": 10,
   "metadata": {},
   "outputs": [],
   "source": [
    "#and\n",
    "a = 23\n",
    "b = 34\n",
    "if a == 34 and b == 34:\n",
    "    print (a + b)"
   ]
  },
  {
   "cell_type": "code",
   "execution_count": 11,
   "metadata": {},
   "outputs": [
    {
     "name": "stdout",
     "output_type": "stream",
     "text": [
      "Advertencia, un asteroide se acerca demasiado rápido\n"
     ]
    }
   ],
   "source": [
    "# Añadir el código necesario para crear una variable que guarde la velocidad del asteroide.\n",
    "# Escribe una expresión de prueba para calcular si necesita una advertencia.\n",
    "# Agregue las instrucciones que se ejecutarán si la expresión de prueba es true o false.\n",
    "danger=25\n",
    "a= 49\n",
    "if a > danger:\n",
    "    print('Advertencia, un asteroide se acerca demasiado rápido')\n",
    "else: \n",
    "    print(\"Todo está bajo control\")"
   ]
  },
  {
   "cell_type": "code",
   "execution_count": 14,
   "metadata": {},
   "outputs": [
    {
     "name": "stdout",
     "output_type": "stream",
     "text": [
      "Todo está bajo control\n"
     ]
    }
   ],
   "source": [
    "# Agrega el código para crear una variable para un asteroide que viaja a 19 km/s\n",
    "# Escribe varias expresiones de prueba para determinar si puedes ver el rayo de luz desde la tierra\n",
    "# Agrega las instrucciones que se ejecutarán si las expresiones de prueba son True o False \n",
    "\n",
    "a = 19\n",
    "danger = 20\n",
    "rayo = 20\n",
    "\n",
    "if a >= rayo:\n",
    "     print ('Se vislumbra una rayo!')\n",
    "elif a == danger:\n",
    "    print (\"Se vislumbra una rayo!\")\n",
    "else:\n",
    "    print (\"Todo está bajo control\")\n",
    "        "
   ]
  },
  {
   "cell_type": "code",
   "execution_count": 18,
   "metadata": {},
   "outputs": [
    {
     "name": "stdout",
     "output_type": "stream",
     "text": [
      "Todo está bajo control\n"
     ]
    }
   ],
   "source": [
    "# Agrega el código para crear nuevas variables para la velocidad y el tamaño del asteroide\n",
    "# Para probar el código, prueba con varias velocidades y tamaños\n",
    "# Escribe varias expresiones de prueba o combinaciones de expresiones \n",
    "# de prueba para determinar qué mensaje se debe enviar a Tierra.\n",
    "\n",
    "tamañoAsteroide = 10\n",
    "velocidadAsteroide = 10\n",
    "\n",
    "if velocidadAsteroide > 25 and tamañoAsteroide > 25:\n",
    "    print(\"Advertencia, un asteroide se acerca demasiado rápido\")\n",
    "elif velocidadAsteroide >= 20:\n",
    "    print(\"Se vislumbra una rayo!\")\n",
    "elif tamañoAsteroide < 25:\n",
    "    print(\"Todo está bajo control\")\n",
    "else:\n",
    "    print(\"Todo está bajo control\")\n"
   ]
  }
 ],
 "metadata": {
  "interpreter": {
   "hash": "14aca6465cc814b6e1a43d8b847508903497da052e7dd6a5c26c8b8f951c2e7b"
  },
  "kernelspec": {
   "display_name": "Python 3.10.2 64-bit",
   "language": "python",
   "name": "python3"
  },
  "language_info": {
   "codemirror_mode": {
    "name": "ipython",
    "version": 3
   },
   "file_extension": ".py",
   "mimetype": "text/x-python",
   "name": "python",
   "nbconvert_exporter": "python",
   "pygments_lexer": "ipython3",
   "version": "3.10.2"
  },
  "orig_nbformat": 4
 },
 "nbformat": 4,
 "nbformat_minor": 2
}
