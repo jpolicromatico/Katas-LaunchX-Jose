{
 "cells": [
  {
   "cell_type": "code",
   "execution_count": 5,
   "metadata": {},
   "outputs": [
    {
     "name": "stdout",
     "output_type": "stream",
     "text": [
      "Mars\n",
      "42\n",
      "Mars diametro polar 6725\n"
     ]
    }
   ],
   "source": [
    "planet={\n",
    "\n",
    "\"name\" : \"Mars\",\n",
    "\"moons\" : 42\n",
    "}\n",
    "\n",
    "print(planet[\"name\"])\n",
    "print(planet[\"moons\"])\n",
    "\n",
    "planet[\"circunferencia (km)\"]={\n",
    "    \"polar\" : 6725,\n",
    "    \"equatorial\" : 6792 \n",
    "}\n",
    "\n",
    "print(f'{planet[\"name\"]} diametro polar {planet[\"circunferencia (km)\"][\"polar\"]}')"
   ]
  },
  {
   "cell_type": "code",
   "execution_count": 1,
   "metadata": {},
   "outputs": [
    {
     "name": "stdout",
     "output_type": "stream",
     "text": [
      "17.833333333333332\n"
     ]
    }
   ],
   "source": [
    "# Planets and moons\n",
    "\n",
    "planet_moons = {\n",
    "    'mercury': 0,\n",
    "    'venus': 0,\n",
    "    'earth': 1,\n",
    "    'mars': 2,\n",
    "    'jupiter': 79,\n",
    "    'saturn': 82,\n",
    "    'uranus': 27,\n",
    "    'neptune': 14,\n",
    "    'pluto': 5,\n",
    "    'haumea': 2,\n",
    "    'makemake': 1,\n",
    "    'eris': 1\n",
    "}\n",
    "\n",
    "moons = planet_moons.values() #se crea una lista de los valores\n",
    "\n",
    "planets = len(planet_moons.keys()) #cuantos planetas hay?\n",
    "\n",
    "\n",
    "total_moons = 0\n",
    "for moon in moons:\n",
    "     total_moons= total_moons+moon\n",
    "\n",
    "average = total_moons/planets\n",
    "print(average)\n",
    "\n"
   ]
  }
 ],
 "metadata": {
  "interpreter": {
   "hash": "14aca6465cc814b6e1a43d8b847508903497da052e7dd6a5c26c8b8f951c2e7b"
  },
  "kernelspec": {
   "display_name": "Python 3.10.2 64-bit",
   "language": "python",
   "name": "python3"
  },
  "language_info": {
   "codemirror_mode": {
    "name": "ipython",
    "version": 3
   },
   "file_extension": ".py",
   "mimetype": "text/x-python",
   "name": "python",
   "nbconvert_exporter": "python",
   "pygments_lexer": "ipython3",
   "version": "3.10.2"
  },
  "orig_nbformat": 4
 },
 "nbformat": 4,
 "nbformat_minor": 2
}
